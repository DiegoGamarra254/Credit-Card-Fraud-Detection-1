{
 "cells": [
  {
   "cell_type": "markdown",
   "metadata": {},
   "source": [
    "<h1 style=\"color: lightblack;\">Credit Card Fraud Detection Using Machine Learning Algorithms</h1>\n",
    "<h3 style=\"color: lightgreen;\">Random Forest - Support Vector Machine - Logistic Regression.</h3>\n",
    "<h4 style=\"color: lightblue;\">Project Overview:</h4>\n",
    "The goal of this project is to develop a machine learning model to detect fraudulent credit card transactions.  \n",
    "Credit card fraud is a significant problem for financial institutions and consumers, and early detection of   \n",
    "fraudulent transactions is crucial to prevent financial losses. In this project, we will use three different machine learning algorithms:  \n",
    "Random Forest, Logistic Regression, and Support Vector Machine (SVM) — to identify patterns in transaction data that indicate fraud."
   ]
  },
  {
   "cell_type": "code",
   "execution_count": 1,
   "metadata": {},
   "outputs": [],
   "source": [
    "import pandas as pd\n",
    "import matplotlib.pyplot as plt\n",
    "from sklearn.ensemble import RandomForestClassifier\n",
    "from sklearn.model_selection import train_test_split\n",
    "from sklearn.linear_model import LogisticRegression\n",
    "from sklearn.preprocessing import StandardScaler\n",
    "from sklearn.svm import SVC\n",
    "from sklearn.calibration import CalibratedClassifierCV\n",
    "from sklearn.metrics import precision_score, recall_score, f1_score\n",
    "from sklearn.metrics import accuracy_score"
   ]
  },
  {
   "cell_type": "code",
   "execution_count": 11,
   "metadata": {},
   "outputs": [],
   "source": [
    "from IPython.display import display, HTML"
   ]
  },
  {
   "cell_type": "markdown",
   "metadata": {},
   "source": [
    "We can download the data from https://www.kaggle.com/datasets/dhanushnarayananr/credit-card-fraud/data"
   ]
  },
  {
   "cell_type": "code",
   "execution_count": 16,
   "metadata": {},
   "outputs": [
    {
     "data": {
      "text/html": [
       "<div>\n",
       "<style scoped>\n",
       "    .dataframe tbody tr th:only-of-type {\n",
       "        vertical-align: middle;\n",
       "    }\n",
       "\n",
       "    .dataframe tbody tr th {\n",
       "        vertical-align: top;\n",
       "    }\n",
       "\n",
       "    .dataframe thead th {\n",
       "        text-align: right;\n",
       "    }\n",
       "</style>\n",
       "<table border=\"1\" class=\"dataframe\">\n",
       "  <thead>\n",
       "    <tr style=\"text-align: right;\">\n",
       "      <th></th>\n",
       "      <th>distance_from_home</th>\n",
       "      <th>distance_from_last_transaction</th>\n",
       "      <th>ratio_to_median_purchase_price</th>\n",
       "      <th>repeat_retailer</th>\n",
       "      <th>used_chip</th>\n",
       "      <th>used_pin_number</th>\n",
       "      <th>online_order</th>\n",
       "      <th>fraud</th>\n",
       "    </tr>\n",
       "  </thead>\n",
       "  <tbody>\n",
       "    <tr>\n",
       "      <th>0</th>\n",
       "      <td>57.877857</td>\n",
       "      <td>0.311140</td>\n",
       "      <td>1.945940</td>\n",
       "      <td>1.0</td>\n",
       "      <td>1.0</td>\n",
       "      <td>0.0</td>\n",
       "      <td>0.0</td>\n",
       "      <td>0.0</td>\n",
       "    </tr>\n",
       "    <tr>\n",
       "      <th>1</th>\n",
       "      <td>10.829943</td>\n",
       "      <td>0.175592</td>\n",
       "      <td>1.294219</td>\n",
       "      <td>1.0</td>\n",
       "      <td>0.0</td>\n",
       "      <td>0.0</td>\n",
       "      <td>0.0</td>\n",
       "      <td>0.0</td>\n",
       "    </tr>\n",
       "    <tr>\n",
       "      <th>2</th>\n",
       "      <td>5.091079</td>\n",
       "      <td>0.805153</td>\n",
       "      <td>0.427715</td>\n",
       "      <td>1.0</td>\n",
       "      <td>0.0</td>\n",
       "      <td>0.0</td>\n",
       "      <td>1.0</td>\n",
       "      <td>0.0</td>\n",
       "    </tr>\n",
       "    <tr>\n",
       "      <th>3</th>\n",
       "      <td>2.247564</td>\n",
       "      <td>5.600044</td>\n",
       "      <td>0.362663</td>\n",
       "      <td>1.0</td>\n",
       "      <td>1.0</td>\n",
       "      <td>0.0</td>\n",
       "      <td>1.0</td>\n",
       "      <td>0.0</td>\n",
       "    </tr>\n",
       "    <tr>\n",
       "      <th>4</th>\n",
       "      <td>44.190936</td>\n",
       "      <td>0.566486</td>\n",
       "      <td>2.222767</td>\n",
       "      <td>1.0</td>\n",
       "      <td>1.0</td>\n",
       "      <td>0.0</td>\n",
       "      <td>1.0</td>\n",
       "      <td>0.0</td>\n",
       "    </tr>\n",
       "  </tbody>\n",
       "</table>\n",
       "</div>"
      ],
      "text/plain": [
       "   distance_from_home  distance_from_last_transaction  \\\n",
       "0           57.877857                        0.311140   \n",
       "1           10.829943                        0.175592   \n",
       "2            5.091079                        0.805153   \n",
       "3            2.247564                        5.600044   \n",
       "4           44.190936                        0.566486   \n",
       "\n",
       "   ratio_to_median_purchase_price  repeat_retailer  used_chip  \\\n",
       "0                        1.945940              1.0        1.0   \n",
       "1                        1.294219              1.0        0.0   \n",
       "2                        0.427715              1.0        0.0   \n",
       "3                        0.362663              1.0        1.0   \n",
       "4                        2.222767              1.0        1.0   \n",
       "\n",
       "   used_pin_number  online_order  fraud  \n",
       "0              0.0           0.0    0.0  \n",
       "1              0.0           0.0    0.0  \n",
       "2              0.0           1.0    0.0  \n",
       "3              0.0           1.0    0.0  \n",
       "4              0.0           1.0    0.0  "
      ]
     },
     "execution_count": 16,
     "metadata": {},
     "output_type": "execute_result"
    }
   ],
   "source": [
    "df = pd.read_csv(r'D:\\Data Science\\Credit Card Fraud\\card_transdata.csv')\n",
    "df.head()"
   ]
  },
  {
   "cell_type": "markdown",
   "metadata": {},
   "source": [
    "### Feature Explanation:\n",
    "\n",
    "distance_from_home - the distance from home where the transaction happened.\n",
    "\n",
    "distance_from_last_transaction - the distance from last transaction happened.\n",
    "\n",
    "ratio_to_median_purchase_price - Ratio of purchased price transaction to median purchase price.\n",
    "\n",
    "repeat_retailer - Is the transaction happened from same retailer.\n",
    "\n",
    "used_chip - Is the transaction through chip (credit card).\n",
    "\n",
    "used_pin_number - Is the transaction happened by using PIN number.\n",
    "\n",
    "online_order - Is the transaction an online order.\n",
    "\n",
    "fraud - Is the transaction fraudulent."
   ]
  },
  {
   "cell_type": "code",
   "execution_count": 16,
   "metadata": {},
   "outputs": [
    {
     "data": {
      "text/plain": [
       "fraud\n",
       "0.0    912597\n",
       "1.0     87403\n",
       "Name: count, dtype: int64"
      ]
     },
     "execution_count": 16,
     "metadata": {},
     "output_type": "execute_result"
    }
   ],
   "source": [
    "df[\"fraud\"].value_counts()"
   ]
  },
  {
   "cell_type": "code",
   "execution_count": 17,
   "metadata": {},
   "outputs": [
    {
     "name": "stdout",
     "output_type": "stream",
     "text": [
      "Fraud to no-fraud rate is: 0.09577392868922427\n"
     ]
    }
   ],
   "source": [
    "print( \"Fraud to no-fraud rate is:\", (df[\"fraud\"] == 1).sum()/(df[\"fraud\"] == 0).sum())"
   ]
  },
  {
   "cell_type": "markdown",
   "metadata": {},
   "source": [
    "###  Evaluating the security of Chip and Pin Transaction methods"
   ]
  },
  {
   "cell_type": "code",
   "execution_count": 3,
   "metadata": {},
   "outputs": [],
   "source": [
    "chippindf= df[[\"used_chip\", \"used_pin_number\",\"fraud\"]]"
   ]
  },
  {
   "cell_type": "code",
   "execution_count": 10,
   "metadata": {},
   "outputs": [],
   "source": [
    "total_transactions = len(chippindf)\n",
    "total_fraud = chippindf[\"fraud\"].sum()\n",
    "fraud_by_chip = chippindf[chippindf[\"used_chip\"]==1][\"fraud\"].sum()\n",
    "fraud_by_pin = chippindf[chippindf[\"used_pin_number\"]==1][\"fraud\"].sum()"
   ]
  },
  {
   "cell_type": "code",
   "execution_count": 12,
   "metadata": {},
   "outputs": [
    {
     "name": "stdout",
     "output_type": "stream",
     "text": [
      "Total Transactions 1000000\n",
      "total fraud cases 87403.0\n",
      "total chip frauds 22410.0 out of 1000000\n",
      "total pin frauds 273.0 out of 1000000\n"
     ]
    }
   ],
   "source": [
    "print(\"Total Transactions\", total_transactions)\n",
    "print(\"total fraud cases\", total_fraud)\n",
    "print(\"total chip frauds {} out of {}\".format(fraud_by_chip, total_transactions))\n",
    "print(\"total pin frauds {} out of {}\".format(fraud_by_pin, total_transactions))"
   ]
  },
  {
   "cell_type": "markdown",
   "metadata": {},
   "source": [
    "Let's create a view..."
   ]
  },
  {
   "cell_type": "code",
   "execution_count": 19,
   "metadata": {},
   "outputs": [
    {
     "data": {
      "image/png": "[encoded data removed]",
      "text/plain": [
       "<Figure size 1200x600 with 2 Axes>"
      ]
     },
     "metadata": {},
     "output_type": "display_data"
    }
   ],
   "source": [
    "labels_chip = [\"Non-Fraud\", \"Fraud\"]\n",
    "sizes_chip = [total_transactions - fraud_by_chip, fraud_by_chip]\n",
    "colors_chip = [\"lightskyblue\", \"lightcoral\"]\n",
    "\n",
    "labels_pin = [\"Non-Fraud\", \"Fraud\"]\n",
    "sizes_pin = [total_transactions - fraud_by_pin, fraud_by_pin]\n",
    "colors_pin = [\"lightskyblue\", \"lightcoral\"]\n",
    "\n",
    "plt.figure(figsize=(12, 6))\n",
    "\n",
    "plt.subplot(1, 2, 1)\n",
    "plt.pie(sizes_chip, labels=labels_chip, colors=colors_chip, startangle=140)\n",
    "plt.axis(\"equal\")\n",
    "plt.title(\"Chip Transactions\")\n",
    "\n",
    "plt.subplot(1, 2, 2)\n",
    "plt.pie(sizes_pin, labels=labels_pin, colors=colors_pin, startangle=140)\n",
    "plt.axis(\"equal\")\n",
    "plt.title(\"Pin Transactions\")\n",
    "\n",
    "plt.suptitle(\"Fraud cases in Chip and Pin Transactions\")\n",
    "plt.show()"
   ]
  },
  {
   "cell_type": "markdown",
   "metadata": {},
   "source": [
    "### Analyzing repeat retailer Fraud Patterns "
   ]
  },
  {
   "cell_type": "code",
   "execution_count": 6,
   "metadata": {},
   "outputs": [
    {
     "data": {
      "text/html": [
       "<div>\n",
       "<style scoped>\n",
       "    .dataframe tbody tr th:only-of-type {\n",
       "        vertical-align: middle;\n",
       "    }\n",
       "\n",
       "    .dataframe tbody tr th {\n",
       "        vertical-align: top;\n",
       "    }\n",
       "\n",
       "    .dataframe thead th {\n",
       "        text-align: right;\n",
       "    }\n",
       "</style>\n",
       "<table border=\"1\" class=\"dataframe\">\n",
       "  <thead>\n",
       "    <tr style=\"text-align: right;\">\n",
       "      <th></th>\n",
       "      <th>distance_from_home</th>\n",
       "      <th>distance_from_last_transaction</th>\n",
       "      <th>ratio_to_median_purchase_price</th>\n",
       "      <th>repeat_retailer</th>\n",
       "      <th>used_chip</th>\n",
       "      <th>used_pin_number</th>\n",
       "      <th>online_order</th>\n",
       "      <th>fraud</th>\n",
       "    </tr>\n",
       "  </thead>\n",
       "  <tbody>\n",
       "    <tr>\n",
       "      <th>0</th>\n",
       "      <td>57.877857</td>\n",
       "      <td>0.311140</td>\n",
       "      <td>1.945940</td>\n",
       "      <td>1.0</td>\n",
       "      <td>1.0</td>\n",
       "      <td>0.0</td>\n",
       "      <td>0.0</td>\n",
       "      <td>0.0</td>\n",
       "    </tr>\n",
       "    <tr>\n",
       "      <th>1</th>\n",
       "      <td>10.829943</td>\n",
       "      <td>0.175592</td>\n",
       "      <td>1.294219</td>\n",
       "      <td>1.0</td>\n",
       "      <td>0.0</td>\n",
       "      <td>0.0</td>\n",
       "      <td>0.0</td>\n",
       "      <td>0.0</td>\n",
       "    </tr>\n",
       "    <tr>\n",
       "      <th>2</th>\n",
       "      <td>5.091079</td>\n",
       "      <td>0.805153</td>\n",
       "      <td>0.427715</td>\n",
       "      <td>1.0</td>\n",
       "      <td>0.0</td>\n",
       "      <td>0.0</td>\n",
       "      <td>1.0</td>\n",
       "      <td>0.0</td>\n",
       "    </tr>\n",
       "    <tr>\n",
       "      <th>3</th>\n",
       "      <td>2.247564</td>\n",
       "      <td>5.600044</td>\n",
       "      <td>0.362663</td>\n",
       "      <td>1.0</td>\n",
       "      <td>1.0</td>\n",
       "      <td>0.0</td>\n",
       "      <td>1.0</td>\n",
       "      <td>0.0</td>\n",
       "    </tr>\n",
       "    <tr>\n",
       "      <th>4</th>\n",
       "      <td>44.190936</td>\n",
       "      <td>0.566486</td>\n",
       "      <td>2.222767</td>\n",
       "      <td>1.0</td>\n",
       "      <td>1.0</td>\n",
       "      <td>0.0</td>\n",
       "      <td>1.0</td>\n",
       "      <td>0.0</td>\n",
       "    </tr>\n",
       "  </tbody>\n",
       "</table>\n",
       "</div>"
      ],
      "text/plain": [
       "   distance_from_home  distance_from_last_transaction  \\\n",
       "0           57.877857                        0.311140   \n",
       "1           10.829943                        0.175592   \n",
       "2            5.091079                        0.805153   \n",
       "3            2.247564                        5.600044   \n",
       "4           44.190936                        0.566486   \n",
       "\n",
       "   ratio_to_median_purchase_price  repeat_retailer  used_chip  \\\n",
       "0                        1.945940              1.0        1.0   \n",
       "1                        1.294219              1.0        0.0   \n",
       "2                        0.427715              1.0        0.0   \n",
       "3                        0.362663              1.0        1.0   \n",
       "4                        2.222767              1.0        1.0   \n",
       "\n",
       "   used_pin_number  online_order  fraud  \n",
       "0              0.0           0.0    0.0  \n",
       "1              0.0           0.0    0.0  \n",
       "2              0.0           1.0    0.0  \n",
       "3              0.0           1.0    0.0  \n",
       "4              0.0           1.0    0.0  "
      ]
     },
     "execution_count": 6,
     "metadata": {},
     "output_type": "execute_result"
    }
   ],
   "source": [
    "df.head()"
   ]
  },
  {
   "cell_type": "code",
   "execution_count": 3,
   "metadata": {},
   "outputs": [],
   "source": [
    "repeat_retailer_df=df[df[\"repeat_retailer\"]==1]"
   ]
  },
  {
   "cell_type": "code",
   "execution_count": 4,
   "metadata": {},
   "outputs": [
    {
     "name": "stdout",
     "output_type": "stream",
     "text": [
      "Fraud Sequence 1: Repeat Retailer, Repeat Retailer, Repeat Retailer, Repeat Retailer, Repeat Retailer, Repeat Retailer, Repeat Retailer, Repeat Retailer, Repeat Retailer, Repeat Retailer, Repeat Retailer, Repeat Retailer\n",
      "Fraud Sequence 2: Repeat Retailer, Repeat Retailer, Repeat Retailer, Repeat Retailer, Repeat Retailer, Repeat Retailer, Repeat Retailer, Repeat Retailer, Repeat Retailer\n",
      "Fraud Sequence 3: Repeat Retailer, Repeat Retailer, Repeat Retailer, Repeat Retailer\n",
      "Fraud Sequence 4: Repeat Retailer, Repeat Retailer, Repeat Retailer, Repeat Retailer, Repeat Retailer\n",
      "Fraud Sequence 5: Repeat Retailer, Repeat Retailer, Repeat Retailer, Repeat Retailer, Repeat Retailer, Repeat Retailer, Repeat Retailer, Repeat Retailer, Repeat Retailer\n",
      "Fraud Sequence 6: Repeat Retailer, Repeat Retailer, Repeat Retailer, Repeat Retailer, Repeat Retailer\n",
      "Fraud Sequence 7: Repeat Retailer, Repeat Retailer, Repeat Retailer, Repeat Retailer, Repeat Retailer, Repeat Retailer, Repeat Retailer, Repeat Retailer, Repeat Retailer, Repeat Retailer, Repeat Retailer, Repeat Retailer, Repeat Retailer, Repeat Retailer, Repeat Retailer, Repeat Retailer, Repeat Retailer, Repeat Retailer, Repeat Retailer, Repeat Retailer, Repeat Retailer, Repeat Retailer, Repeat Retailer, Repeat Retailer, Repeat Retailer, Repeat Retailer, Repeat Retailer, Repeat Retailer, Repeat Retailer, Repeat Retailer, Repeat Retailer, Repeat Retailer, Repeat Retailer, Repeat Retailer, Repeat Retailer, Repeat Retailer, Repeat Retailer, Repeat Retailer, Repeat Retailer, Repeat Retailer, Repeat Retailer\n",
      "Fraud Sequence 8: Repeat Retailer\n",
      "Fraud Sequence 9: Repeat Retailer, Repeat Retailer, Repeat Retailer, Repeat Retailer, Repeat Retailer, Repeat Retailer\n",
      "Fraud Sequence 10: Repeat Retailer, Repeat Retailer, Repeat Retailer, Repeat Retailer, Repeat Retailer, Repeat Retailer, Repeat Retailer, Repeat Retailer, Repeat Retailer, Repeat Retailer, Repeat Retailer, Repeat Retailer, Repeat Retailer, Repeat Retailer, Repeat Retailer, Repeat Retailer, Repeat Retailer, Repeat Retailer, Repeat Retailer\n"
     ]
    }
   ],
   "source": [
    "repeat_retailer_df=df[df[\"repeat_retailer\"]==1]\n",
    "fraud_sequences=[]\n",
    "current_sequence=[]\n",
    "\n",
    "\n",
    "for index, row in repeat_retailer_df.iterrows():\n",
    "    repeat_retailer, is_fraud=row[\"repeat_retailer\"], row[\"fraud\"]\n",
    "    if is_fraud==1:\n",
    "        if current_sequence:\n",
    "            fraud_sequences.append(current_sequence.copy())\n",
    "        current_sequence=[]\n",
    "    else:\n",
    "        current_sequence.append(\"Repeat Retailer\" if repeat_retailer==1 else \"No Repeat Retailer\")\n",
    "\n",
    "for i, sequence in enumerate(fraud_sequences[:10], start =1):\n",
    "    print(f\"Fraud Sequence {i}: {', '.join(sequence)}\")"
   ]
  },
  {
   "cell_type": "code",
   "execution_count": 6,
   "metadata": {},
   "outputs": [],
   "source": [
    "# Calculate lengths of each fraud sequence\n",
    "limited_sequences = fraud_sequences[:10]\n",
    "# Calculate lengths of each limited fraud sequence\n",
    "sequence_lengths = [len(sequence) for sequence in limited_sequences]\n"
   ]
  },
  {
   "cell_type": "markdown",
   "metadata": {},
   "source": [
    "These visualizations can help to understand the patterns of repeated transactions leading up to fraud. \n",
    "The bar chart shows the length of sequences before fraud, while the stacked bar chart can provide a more\n",
    "granular view of individual transactions."
   ]
  },
  {
   "cell_type": "code",
   "execution_count": 7,
   "metadata": {},
   "outputs": [
    {
     "data": {
      "image/png": "[encoded data removed]",
      "text/plain": [
       "<Figure size 1000x600 with 1 Axes>"
      ]
     },
     "metadata": {},
     "output_type": "display_data"
    }
   ],
   "source": [
    "# Plotting the lengths of limited fraud sequences\n",
    "plt.figure(figsize=(10, 6))\n",
    "plt.bar(range(1, len(sequence_lengths) + 1), sequence_lengths, color='skyblue')\n",
    "plt.xlabel('Fraud Sequence Number')\n",
    "plt.ylabel('Length of Repeat Retailer Sequence')\n",
    "plt.title('Length of Repeat Retailer Sequences Leading to Fraud (First 10 Sequences)')\n",
    "plt.show()"
   ]
  },
  {
   "cell_type": "code",
   "execution_count": 5,
   "metadata": {},
   "outputs": [
    {
     "data": {
      "image/png": "[encoded data removed]",
      "text/plain": [
       "<Figure size 1200x600 with 1 Axes>"
      ]
     },
     "metadata": {},
     "output_type": "display_data"
    }
   ],
   "source": [
    "limited_sequences = fraud_sequences[:5]\n",
    "# Prepare data for a stacked bar chart\n",
    "max_sequence_length = max(len(seq) for seq in limited_sequences)\n",
    "fraud_sequences_padded = [seq + [\"\"] * (max_sequence_length - len(seq)) for seq in limited_sequences]\n",
    "\n",
    "# Transpose the data for easier plotting\n",
    "stacked_data = list(zip(*fraud_sequences_padded))\n",
    "\n",
    "# Plotting the stacked bar chart with reduced samples\n",
    "plt.figure(figsize=(12, 6))\n",
    "for i, data in enumerate(stacked_data):\n",
    "    plt.bar(range(1, len(data) + 1), [1 if x == \"Repeat Retailer\" else 0 for x in data],\n",
    "            bottom=[i for _ in range(len(data))], label=f'Step {i+1}' if i == 0 else \"\")\n",
    "\n",
    "plt.xlabel('Fraud Sequence Number')\n",
    "plt.ylabel('Transaction Steps')\n",
    "plt.title('Stacked Bar Chart of Repeat Retailer Sequences Leading to Fraud (First 5 Sequences)')\n",
    "plt.show()"
   ]
  },
  {
   "cell_type": "markdown",
   "metadata": {},
   "source": [
    "### Finding correlation between transaction-amount and fraud"
   ]
  },
  {
   "cell_type": "code",
   "execution_count": 3,
   "metadata": {},
   "outputs": [],
   "source": [
    "correlation_df=df[[\"ratio_to_median_purchase_price\", \"fraud\"]]"
   ]
  },
  {
   "cell_type": "code",
   "execution_count": 4,
   "metadata": {},
   "outputs": [
    {
     "name": "stdout",
     "output_type": "stream",
     "text": [
      "Correlation between transaction amount and fraud:0.46230472228825864\n"
     ]
    }
   ],
   "source": [
    "correlation=correlation_df[\"ratio_to_median_purchase_price\"].corr(correlation_df[\"fraud\"])\n",
    "print(f\"Correlation between transaction amount and fraud:{correlation}\")"
   ]
  },
  {
   "cell_type": "code",
   "execution_count": 6,
   "metadata": {},
   "outputs": [
    {
     "name": "stdout",
     "output_type": "stream",
     "text": [
      "Average ratio to median purchase price for non fraudulent transactions:1.423641855458059\n",
      "Average ratio to median purchase price for  fraudulent transactions:6.006323490486969\n"
     ]
    }
   ],
   "source": [
    "avgnonfraudtransaction=correlation_df[correlation_df[\"fraud\"]==0][\"ratio_to_median_purchase_price\"].mean()\n",
    "avgfraudtransaction=correlation_df[correlation_df[\"fraud\"]==1][\"ratio_to_median_purchase_price\"].mean()\n",
    "print(f\"Average ratio to median purchase price for non fraudulent transactions:{avgnonfraudtransaction}\")\n",
    "print(f\"Average ratio to median purchase price for  fraudulent transactions:{avgfraudtransaction}\")"
   ]
  },
  {
   "cell_type": "markdown",
   "metadata": {},
   "source": [
    "Previous results show non fraudulent transactions have a ratio that is 1.42 times the median purchase price meanwhile the ratio of fraudulent transactions is 6 times which means that fraudulent transactions are related to higher amounts"
   ]
  },
  {
   "cell_type": "code",
   "execution_count": 10,
   "metadata": {},
   "outputs": [
    {
     "data": {
      "image/png": "[encoded data removed]",
      "text/plain": [
       "<Figure size 640x480 with 1 Axes>"
      ]
     },
     "metadata": {},
     "output_type": "display_data"
    }
   ],
   "source": [
    "categories =[\"Non-Fraudulent\" , \" Fraudulent\"]\n",
    "average_ratio=[avgnonfraudtransaction, avgfraudtransaction]\n",
    "plt.bar(categories,average_ratio,color=['blue','red'])\n",
    "plt.title(\"Ratio to Median Purchase Price\")\n",
    "plt.xlabel(\"Fraud Category\")\n",
    "plt.ylabel(\"Average ratio to median purchase price\")\n",
    "plt.show()"
   ]
  },
  {
   "cell_type": "markdown",
   "metadata": {},
   "source": [
    "### Analyzing Fraud Cases in Online Transactions "
   ]
  },
  {
   "cell_type": "code",
   "execution_count": 4,
   "metadata": {},
   "outputs": [
    {
     "data": {
      "text/html": [
       "<div>\n",
       "<style scoped>\n",
       "    .dataframe tbody tr th:only-of-type {\n",
       "        vertical-align: middle;\n",
       "    }\n",
       "\n",
       "    .dataframe tbody tr th {\n",
       "        vertical-align: top;\n",
       "    }\n",
       "\n",
       "    .dataframe thead th {\n",
       "        text-align: right;\n",
       "    }\n",
       "</style>\n",
       "<table border=\"1\" class=\"dataframe\">\n",
       "  <thead>\n",
       "    <tr style=\"text-align: right;\">\n",
       "      <th></th>\n",
       "      <th>distance_from_home</th>\n",
       "      <th>distance_from_last_transaction</th>\n",
       "      <th>ratio_to_median_purchase_price</th>\n",
       "      <th>repeat_retailer</th>\n",
       "      <th>used_chip</th>\n",
       "      <th>used_pin_number</th>\n",
       "      <th>online_order</th>\n",
       "      <th>fraud</th>\n",
       "    </tr>\n",
       "  </thead>\n",
       "  <tbody>\n",
       "    <tr>\n",
       "      <th>0</th>\n",
       "      <td>57.877857</td>\n",
       "      <td>0.311140</td>\n",
       "      <td>1.945940</td>\n",
       "      <td>1.0</td>\n",
       "      <td>1.0</td>\n",
       "      <td>0.0</td>\n",
       "      <td>0.0</td>\n",
       "      <td>0.0</td>\n",
       "    </tr>\n",
       "    <tr>\n",
       "      <th>1</th>\n",
       "      <td>10.829943</td>\n",
       "      <td>0.175592</td>\n",
       "      <td>1.294219</td>\n",
       "      <td>1.0</td>\n",
       "      <td>0.0</td>\n",
       "      <td>0.0</td>\n",
       "      <td>0.0</td>\n",
       "      <td>0.0</td>\n",
       "    </tr>\n",
       "    <tr>\n",
       "      <th>2</th>\n",
       "      <td>5.091079</td>\n",
       "      <td>0.805153</td>\n",
       "      <td>0.427715</td>\n",
       "      <td>1.0</td>\n",
       "      <td>0.0</td>\n",
       "      <td>0.0</td>\n",
       "      <td>1.0</td>\n",
       "      <td>0.0</td>\n",
       "    </tr>\n",
       "    <tr>\n",
       "      <th>3</th>\n",
       "      <td>2.247564</td>\n",
       "      <td>5.600044</td>\n",
       "      <td>0.362663</td>\n",
       "      <td>1.0</td>\n",
       "      <td>1.0</td>\n",
       "      <td>0.0</td>\n",
       "      <td>1.0</td>\n",
       "      <td>0.0</td>\n",
       "    </tr>\n",
       "    <tr>\n",
       "      <th>4</th>\n",
       "      <td>44.190936</td>\n",
       "      <td>0.566486</td>\n",
       "      <td>2.222767</td>\n",
       "      <td>1.0</td>\n",
       "      <td>1.0</td>\n",
       "      <td>0.0</td>\n",
       "      <td>1.0</td>\n",
       "      <td>0.0</td>\n",
       "    </tr>\n",
       "  </tbody>\n",
       "</table>\n",
       "</div>"
      ],
      "text/plain": [
       "   distance_from_home  distance_from_last_transaction  \\\n",
       "0           57.877857                        0.311140   \n",
       "1           10.829943                        0.175592   \n",
       "2            5.091079                        0.805153   \n",
       "3            2.247564                        5.600044   \n",
       "4           44.190936                        0.566486   \n",
       "\n",
       "   ratio_to_median_purchase_price  repeat_retailer  used_chip  \\\n",
       "0                        1.945940              1.0        1.0   \n",
       "1                        1.294219              1.0        0.0   \n",
       "2                        0.427715              1.0        0.0   \n",
       "3                        0.362663              1.0        1.0   \n",
       "4                        2.222767              1.0        1.0   \n",
       "\n",
       "   used_pin_number  online_order  fraud  \n",
       "0              0.0           0.0    0.0  \n",
       "1              0.0           0.0    0.0  \n",
       "2              0.0           1.0    0.0  \n",
       "3              0.0           1.0    0.0  \n",
       "4              0.0           1.0    0.0  "
      ]
     },
     "execution_count": 4,
     "metadata": {},
     "output_type": "execute_result"
    }
   ],
   "source": [
    "df.head()"
   ]
  },
  {
   "cell_type": "code",
   "execution_count": 7,
   "metadata": {},
   "outputs": [],
   "source": [
    "online_order_df=df[[\"online_order\", \"fraud\"]]"
   ]
  },
  {
   "cell_type": "code",
   "execution_count": 8,
   "metadata": {},
   "outputs": [
    {
     "name": "stdout",
     "output_type": "stream",
     "text": [
      "Fraud rate for online transactoins: 12.71% (82711 cases out of 650552.0 online  transactions)\n",
      "Fraud rate for offline transactoins: 1.34% (4692 cases out of 349448.0 offline  transactions)\n"
     ]
    }
   ],
   "source": [
    "total_online_orders=online_order_df[\"online_order\"].sum()\n",
    "total_online_fraud=online_order_df[(online_order_df[\"fraud\"]==1)&(online_order_df[\"online_order\"]==1)][\"fraud\"].count()\n",
    "fraud_rate_online=total_online_fraud/total_online_orders\n",
    "total_offline_orders=len(online_order_df)-total_online_orders\n",
    "total_offline_fraud=online_order_df[(online_order_df[\"fraud\"]==1)&(online_order_df[\"online_order\"]==0)][\"fraud\"].count()\n",
    "fraud_rate_offline=total_offline_fraud/total_offline_orders\n",
    "\n",
    "print(f\"Fraud rate for online transactions: {fraud_rate_online:.2%} ({total_online_fraud} cases out of {total_online_orders} online  transactions)\")\n",
    "print(f\"Fraud rate for offline transactions: {fraud_rate_offline:.2%} ({total_offline_fraud} cases out of {total_offline_orders} offline  transactions)\")\n",
    "\n",
    "\n"
   ]
  },
  {
   "cell_type": "markdown",
   "metadata": {},
   "source": [
    "## Model Creation\n",
    "For each model we will do a quick test with random data."
   ]
  },
  {
   "cell_type": "markdown",
   "metadata": {},
   "source": [
    "### Random Forest"
   ]
  },
  {
   "cell_type": "code",
   "execution_count": 18,
   "metadata": {},
   "outputs": [],
   "source": [
    "X=df.drop(\"fraud\",axis=1)\n",
    "y=df[\"fraud\"]"
   ]
  },
  {
   "cell_type": "markdown",
   "metadata": {},
   "source": [
    "#### Feature Importance"
   ]
  },
  {
   "cell_type": "code",
   "execution_count": 19,
   "metadata": {},
   "outputs": [
    {
     "data": {
      "text/html": [
       "<h3>Ranked Feature Importance:</h3>"
      ],
      "text/plain": [
       "<IPython.core.display.HTML object>"
      ]
     },
     "metadata": {},
     "output_type": "display_data"
    },
    {
     "name": "stdout",
     "output_type": "stream",
     "text": [
      "ratio_to_median_purchase_price    0.527171\n",
      "online_order                      0.169382\n",
      "distance_from_home                0.134910\n",
      "used_pin_number                   0.063928\n",
      "used_chip                         0.052078\n",
      "distance_from_last_transaction    0.045711\n",
      "repeat_retailer                   0.006820\n",
      "dtype: float64\n"
     ]
    }
   ],
   "source": [
    "X_train, X_test, y_train, y_test=train_test_split(X,y, test_size=0.2, random_state=42)\n",
    "rf_classifier=RandomForestClassifier(random_state=42)\n",
    "rf_classifier.fit(X_train,y_train)\n",
    "feature_importances=pd.Series(rf_classifier.feature_importances_,index=X.columns).sort_values(ascending=False)\n",
    "#print(\"Ranked Feature Importance:\")\n",
    "display(HTML(\"<h3>Ranked Feature Importance:</h3>\"))\n",
    "print(feature_importances)"
   ]
  },
  {
   "cell_type": "code",
   "execution_count": 7,
   "metadata": {},
   "outputs": [],
   "source": [
    "X=df.drop(\"fraud\",axis=1)\n",
    "y=df[\"fraud\"]"
   ]
  },
  {
   "cell_type": "code",
   "execution_count": 8,
   "metadata": {},
   "outputs": [
    {
     "name": "stdout",
     "output_type": "stream",
     "text": [
      "\n",
      "Randomly sampled featured for new trnsaction:\n",
      "        distance_from_home  distance_from_last_transaction  \\\n",
      "281128            1.059406                        2.614135   \n",
      "\n",
      "        ratio_to_median_purchase_price  repeat_retailer  used_chip  \\\n",
      "281128                        1.666857              0.0        0.0   \n",
      "\n",
      "        used_pin_number  online_order  \n",
      "281128              1.0           1.0  \n",
      "\n",
      "Prediction for new transaction\n",
      "Legitimate\n"
     ]
    }
   ],
   "source": [
    "X_train, X_test, y_train, y_test = train_test_split(X,y,test_size=0.2, random_state=42)\n",
    "rf_classifier=RandomForestClassifier(random_state=42)\n",
    "rf_classifier.fit(X_train,y_train)\n",
    "new_transaction_features=df.sample(1).drop('fraud',axis=1)\n",
    "print(\"\\nRandomly sampled featured for new trnsaction:\")\n",
    "print(new_transaction_features)\n",
    "prediction=rf_classifier.predict(new_transaction_features)\n",
    "print(\"\\nPrediction for new transaction\")\n",
    "print(\"Fraud\" if prediction[0]==1 else \"Legitimate\")"
   ]
  },
  {
   "cell_type": "code",
   "execution_count": 7,
   "metadata": {},
   "outputs": [
    {
     "name": "stdout",
     "output_type": "stream",
     "text": [
      "\n",
      "Prediction for new transaction\n",
      "Fraud\n"
     ]
    }
   ],
   "source": [
    "new_transaction_features1=pd.DataFrame({'distance_from_home':[80],   \n",
    "                                       'distance_from_last_transaction':[75],\n",
    "                                       'ratio_to_median_purchase_price':[5.1],\n",
    "                                       'repeat_retailer':[0],\n",
    "                                       'used_chip':[1],\n",
    "                                       'used_pin_number':[0],\n",
    "                                       'online_order':[0]})\n",
    "\n",
    "prediction=rf_classifier.predict(new_transaction_features1)\n",
    "print(\"\\nPrediction for new transaction\")\n",
    "print(\"Fraud\" if prediction[0]==1 else \"Legitimate\")"
   ]
  },
  {
   "cell_type": "markdown",
   "metadata": {},
   "source": [
    "### Logistic Regression"
   ]
  },
  {
   "cell_type": "code",
   "execution_count": 7,
   "metadata": {},
   "outputs": [],
   "source": [
    "X=df.drop(\"fraud\",axis=1)\n",
    "y=df['fraud']"
   ]
  },
  {
   "cell_type": "code",
   "execution_count": 8,
   "metadata": {},
   "outputs": [
    {
     "name": "stdout",
     "output_type": "stream",
     "text": [
      "\n",
      "Prediction for new transaction:\n",
      "Legitimate\n"
     ]
    }
   ],
   "source": [
    "X_train, X_test, y_train, y_test=train_test_split(X, y, test_size=0.2, random_state=42)\n",
    "scaler=StandardScaler()\n",
    "X_train_scaled=scaler.fit_transform(X_train)\n",
    "X_test_scaled=scaler.fit_transform(X_test)\n",
    "logreg_classifier=LogisticRegression(max_iter=1000, random_state=42)\n",
    "logreg_classifier.fit(X_train_scaled,y_train)\n",
    "##########\n",
    "new_transaction_features1=pd.DataFrame({'distance_from_home':[89],   \n",
    "                                       'distance_from_last_transaction':[15],\n",
    "                                       'ratio_to_median_purchase_price':[2.3],\n",
    "                                       'repeat_retailer':[1],\n",
    "                                       'used_chip':[0],\n",
    "                                       'used_pin_number':[1],\n",
    "                                       'online_order':[1]})\n",
    "\n",
    "prediction=logreg_classifier.predict(scaler.transform(new_transaction_features1))\n",
    "print(\"\\nPrediction for new transaction:\")\n",
    "print(\"Fraud\" if prediction[0]==1 else\"Legitimate\")"
   ]
  },
  {
   "cell_type": "markdown",
   "metadata": {},
   "source": [
    "### Support Vector Machine"
   ]
  },
  {
   "cell_type": "code",
   "execution_count": 2,
   "metadata": {},
   "outputs": [],
   "source": [
    "# Since SVM takes too long we will sample 1000 rows from the data frame\n",
    "df = pd.read_csv(r'D:\\Data Science\\Credit Card Fraud\\card_transdata.csv').sample(50000,random_state=42)"
   ]
  },
  {
   "cell_type": "code",
   "execution_count": 3,
   "metadata": {},
   "outputs": [],
   "source": [
    "X=df.drop(\"fraud\",axis=1)\n",
    "y=df[\"fraud\"]"
   ]
  },
  {
   "cell_type": "code",
   "execution_count": 4,
   "metadata": {},
   "outputs": [
    {
     "name": "stdout",
     "output_type": "stream",
     "text": [
      "\n",
      "Prediction for New Transaction:\n",
      "Fraud\n",
      "probability of Fraud:84.70%\n"
     ]
    }
   ],
   "source": [
    "X_train, X_test, y_train, y_test = train_test_split(X, y, test_size=0.2, random_state=42)\n",
    "scaler=StandardScaler()\n",
    "X_train_scaled = scaler.fit_transform(X_train)\n",
    "X_test_scaled = scaler.transform(X_test)\n",
    "svm_classifier=SVC(kernel=\"linear\", probability=True, random_state=42)\n",
    "calibrated_svm=CalibratedClassifierCV(svm_classifier)\n",
    "calibrated_svm.fit(X_train_scaled, y_train)\n",
    "distance_from_home=float(input(\"Enter Distance From Home\"))\n",
    "distance_from_last_transaction=float(input(\"Enter distance from last transaction\"))\n",
    "ratio_to_median_purchase_price=float(input(\"Enter ratio to median purchase price\"))\n",
    "repeat_retailer=int(input(\"Enter repeat_retailer 0 or 1\"))\n",
    "used_chip=int(input(\"Enter used_chip 0 or 1\"))\n",
    "used_pin_number=int(input(\"Enter used_pin_number 0 or 1\"))\n",
    "online_order=int(input(\"Enter online_order 0 or 1\"))\n",
    "new_transaction_features2=pd.DataFrame({'distance_from_home':[distance_from_home],   \n",
    "                                       'distance_from_last_transaction':[distance_from_last_transaction],\n",
    "                                       'ratio_to_median_purchase_price':[ratio_to_median_purchase_price],\n",
    "                                       'repeat_retailer':[repeat_retailer],\n",
    "                                       'used_chip':[used_chip],\n",
    "                                       'used_pin_number':[used_pin_number],\n",
    "                                       'online_order':[online_order]})\n",
    "scaled_transaction = scaler.transform(new_transaction_features2)\n",
    "prediction=calibrated_svm.predict(scaled_transaction)\n",
    "probability_of_fraud = calibrated_svm.predict_proba(scaled_transaction)[:,1][0]\n",
    "print(\"\\nPrediction for New Transaction:\")\n",
    "print(\"Fraud\" if prediction[0]==1 else \"Legitimate\")\n",
    "print(f\"probability of Fraud:{probability_of_fraud*100:.2f}%\")\n",
    "\n",
    "\n",
    "\n",
    "\n",
    "\n"
   ]
  },
  {
   "cell_type": "markdown",
   "metadata": {},
   "source": [
    "## Model Evaluation"
   ]
  },
  {
   "cell_type": "code",
   "execution_count": 13,
   "metadata": {},
   "outputs": [
    {
     "data": {
      "text/html": [
       "<h3>Logistic Regression - Evaluation Metrics</h3>"
      ],
      "text/plain": [
       "<IPython.core.display.HTML object>"
      ]
     },
     "metadata": {},
     "output_type": "display_data"
    },
    {
     "name": "stdout",
     "output_type": "stream",
     "text": [
      "Precision: 0.8902\n",
      "Recall: 0.5974\n",
      "F1 Score: 0.7150\n",
      "Accuracy: 0.9585\n"
     ]
    }
   ],
   "source": [
    "y_pred= logreg_classifier.predict(X_test_scaled)\n",
    "precision = precision_score(y_test, y_pred)\n",
    "recall= recall_score(y_test, y_pred)\n",
    "f1=f1_score(y_test,y_pred)\n",
    "accuracy=accuracy_score(y_test,y_pred)\n",
    "#print(\"\\nLogistic Regression - Evaluation Metrics:\")\n",
    "display(HTML(\"<h3>Logistic Regression - Evaluation Metrics</h3>\"))\n",
    "print(f\"Precision: {precision:.4f}\")\n",
    "print(f\"Recall: {recall:.4f}\")\n",
    "print(f\"F1 Score: {f1:.4f}\")\n",
    "print(f\"Accuracy: {accuracy:.4f}\")"
   ]
  },
  {
   "cell_type": "code",
   "execution_count": 14,
   "metadata": {},
   "outputs": [
    {
     "data": {
      "text/html": [
       "<h3>Support Vector Machine - Evaluation Metrics</h3>"
      ],
      "text/plain": [
       "<IPython.core.display.HTML object>"
      ]
     },
     "metadata": {},
     "output_type": "display_data"
    },
    {
     "name": "stdout",
     "output_type": "stream",
     "text": [
      "Precision: 0.8978\n",
      "Recall: 0.5834\n",
      "F1 Score: 0.7073\n",
      "Accuracy: 0.9579\n"
     ]
    }
   ],
   "source": [
    "\n",
    "y_pred= calibrated_svm.predict(X_test_scaled)\n",
    "precision = precision_score(y_test, y_pred)\n",
    "recall= recall_score(y_test, y_pred)\n",
    "f1=f1_score(y_test,y_pred)\n",
    "accuracy=accuracy_score(y_test,y_pred)\n",
    "#print(\"\\nSupport Vector Machines - Evaluation Metrics:\")\n",
    "display(HTML(\"<h3>Support Vector Machine - Evaluation Metrics</h3>\"))\n",
    "print(f\"Precision: {precision:.4f}\")\n",
    "print(f\"Recall: {recall:.4f}\")\n",
    "print(f\"F1 Score: {f1:.4f}\")\n",
    "print(f\"Accuracy: {accuracy:.4f}\")"
   ]
  },
  {
   "cell_type": "code",
   "execution_count": 9,
   "metadata": {},
   "outputs": [
    {
     "name": "stdout",
     "output_type": "stream",
     "text": [
      "\n",
      "Evaluation Metrics:\n",
      "Precision: 1.0000\n",
      "Recall: 0.9999\n",
      "F1 Score: 0.9999\n",
      "Accuracy: 1.0000\n"
     ]
    }
   ],
   "source": [
    "y_pred= rf_classifier.predict(X_test)\n",
    "precision = precision_score(y_test, y_pred)\n",
    "recall= recall_score(y_test, y_pred)\n",
    "f1=f1_score(y_test,y_pred)\n",
    "accuracy=accuracy_score(y_test,y_pred)\n",
    "print(\"\\nEvaluation Metrics:\")\n",
    "print(f\"Precision: {precision:.4f}\")\n",
    "print(f\"Recall: {recall:.4f}\")\n",
    "print(f\"F1 Score: {f1:.4f}\")\n",
    "print(f\"Accuracy: {accuracy:.4f}\")"
   ]
  }
 ],
 "metadata": {
  "kernelspec": {
   "display_name": "Python 3",
   "language": "python",
   "name": "python3"
  },
  "language_info": {
   "codemirror_mode": {
    "name": "ipython",
    "version": 3
   },
   "file_extension": ".py",
   "mimetype": "text/x-python",
   "name": "python",
   "nbconvert_exporter": "python",
   "pygments_lexer": "ipython3",
   "version": "3.12.1"
  }
 },
 "nbformat": 4,
 "nbformat_minor": 2
}
